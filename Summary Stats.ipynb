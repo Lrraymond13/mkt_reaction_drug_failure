{
 "cells": [
  {
   "cell_type": "code",
   "execution_count": null,
   "metadata": {
    "ExecuteTime": {
     "end_time": "2016-07-28T17:40:58.856728",
     "start_time": "2016-07-28T17:40:58.843962"
    },
    "collapsed": true
   },
   "outputs": [],
   "source": [
    "# this notebook imports the final data set with CRSP data matched to events\n",
    "# and calculates various summary stats"
   ]
  },
  {
   "cell_type": "code",
   "execution_count": 5,
   "metadata": {
    "ExecuteTime": {
     "end_time": "2016-07-28T19:42:55.300647",
     "start_time": "2016-07-28T19:42:55.277823"
    },
    "collapsed": false
   },
   "outputs": [],
   "source": [
    "# Combine and Clean CRSP Data\n",
    "from datetime import datetime\n",
    "import funcy\n",
    "import numpy as np\n",
    "import pandas as pd\n",
    "import os\n",
    "\n",
    "from analysis.utilities.dropbox_client import DropboxAPI\n",
    "from analysis.dev import LR_APP_ACCESS\n",
    "\n",
    "DROPBOX_ANALYSIS_DATA = '/data'\n",
    "DROPBOX_CRSP = '/data/CRSP'\n",
    "DATA = os.path.join(os.path.abspath(os.curdir), 'analysis/Data')\n",
    "CRSP_FLAG_FNAME = 'crsp_event_flags'\n",
    "TT_FNAME = 'treating_treated_ticker'"
   ]
  },
  {
   "cell_type": "code",
   "execution_count": 6,
   "metadata": {
    "ExecuteTime": {
     "end_time": "2016-07-28T19:42:55.920725",
     "start_time": "2016-07-28T19:42:55.898739"
    },
    "collapsed": true
   },
   "outputs": [],
   "source": [
    "PIVOTS = ['PRC', 'VOL', 'RET']\n",
    "TTYPES = ['TREATING', 'TREATED']\n",
    "TREATING = 'TREATING'\n",
    "TREATED = 'TREATED'\n",
    "TREATING_DT = 'TREATING_DISCONTINUED_IKT_DATE'\n",
    "TREATED_DT = 'DISCONTINUED_IKT_DATE'\n",
    "FLAGS = ['SAMEMKT_SAMETECH', 'SAMEMKT_DIFFTECH', 'DIFFMKT_SAMETECH']\n",
    "CRSP_LONG_FNAME = 'PRC_RET_VOL_long'\n",
    "SEARCH_ONLINE = False "
   ]
  },
  {
   "cell_type": "code",
   "execution_count": 7,
   "metadata": {
    "ExecuteTime": {
     "end_time": "2016-07-28T19:42:57.403883",
     "start_time": "2016-07-28T19:42:57.383241"
    },
    "collapsed": true
   },
   "outputs": [],
   "source": [
    "drop = DropboxAPI(LR_APP_ACCESS)"
   ]
  },
  {
   "cell_type": "code",
   "execution_count": 8,
   "metadata": {
    "ExecuteTime": {
     "end_time": "2016-07-28T19:42:58.522643",
     "start_time": "2016-07-28T19:42:57.948988"
    },
    "collapsed": false
   },
   "outputs": [
    {
     "name": "stdout",
     "output_type": "stream",
     "text": [
      "Searching local path\n",
      "Full path /Users/lrraymond13/MIT/Kreiger_RA_2016/mkt_reaction_drug_failure/analysis/Data/crsp_event_flags.p\n"
     ]
    }
   ],
   "source": [
    "flag_ds1 = drop.search_and_download(CRSP_FLAG_FNAME, DROPBOX_CRSP, DATA, 'p', SEARCH_ONLINE)\n",
    "# drop NAT from index\n",
    "flag_ds = flag_ds1[~pd.isnull(flag_ds1.index)]\n",
    "del flag_ds1"
   ]
  },
  {
   "cell_type": "code",
   "execution_count": 9,
   "metadata": {
    "ExecuteTime": {
     "end_time": "2016-07-28T19:42:58.958183",
     "start_time": "2016-07-28T19:42:58.528500"
    },
    "collapsed": false
   },
   "outputs": [],
   "source": [
    "# fill all non price, volume columns with 0\n",
    "to_fill = [c for c in flag_ds.columns if c.split('_')[1] not in PIVOTS]\n",
    "\n",
    "flag_ds[to_fill] = flag_ds.loc[:, to_fill].fillna(value=0)"
   ]
  },
  {
   "cell_type": "code",
   "execution_count": 20,
   "metadata": {
    "ExecuteTime": {
     "end_time": "2016-07-28T19:43:39.604583",
     "start_time": "2016-07-28T19:43:39.582967"
    },
    "collapsed": false
   },
   "outputs": [],
   "source": [
    "def total_competitor_fails_US(flag_ds, tickers, flag):\n",
    "    treating_counts = []\n",
    "    for ticker in tickers:\n",
    "        flag_colname = '{0}_TREATING_{1}'.format(ticker, flag)\n",
    "        # take sum over columns and then sum over series\n",
    "        try:\n",
    "            event_series = flag_ds.loc[:, flag_colname]\n",
    "            treating_counts.append((ticker, event_series.dropna().sum()))\n",
    "        except KeyError:\n",
    "            pass\n",
    "    return dict(treating_counts)\n"
   ]
  },
  {
   "cell_type": "code",
   "execution_count": null,
   "metadata": {
    "collapsed": true
   },
   "outputs": [],
   "source": []
  },
  {
   "cell_type": "code",
   "execution_count": 21,
   "metadata": {
    "ExecuteTime": {
     "end_time": "2016-07-28T19:43:40.558880",
     "start_time": "2016-07-28T19:43:40.535681"
    },
    "collapsed": false
   },
   "outputs": [],
   "source": [
    "def count_events_in_window(series_to_count, window_plus, window_minus, counting_fnc=pd.rolling_sum):\n",
    "    # WINDOW MINUS PERIOD ALWAYS INCLUDES DAY t=0, BUT WINDOW PLUS DOES NOT!!!!\n",
    "    # NOTE TO AVOID DOUBLE COUNTING SAME DAY TWICE WE NEED TO SHIFT the series plus back one \n",
    "    # Count (using counting_fnc) the total events in rolling windows\n",
    "    # get forward looking rolling sum by reversing series\n",
    "    series_plus = counting_fnc(series_to_count[::-1], window=window_plus, min_periods=0, center=False)[::-1].shift(-1)\n",
    "    # get backward looking sum\n",
    "    series_minus = counting_fnc(series_to_count, window=window_minus, min_periods=0, center=False)\n",
    "    # sum across series to determine if event clean\n",
    "    total_events = series_minus.fillna(0).add(series_plus, fill_value=0)\n",
    "#     print total_events[total_events.index > datetime(2001, 2, 5)]\n",
    "    return total_events"
   ]
  },
  {
   "cell_type": "code",
   "execution_count": 22,
   "metadata": {
    "ExecuteTime": {
     "end_time": "2016-07-28T19:43:41.717411",
     "start_time": "2016-07-28T19:43:41.695398"
    },
    "collapsed": false
   },
   "outputs": [],
   "source": [
    "def count_clean_events(event_col, is_clean_col, threshold):\n",
    "    # counts the number of clean events in event_col if is_clean_col < threshold\n",
    "    # if threshold is 1, that means clean events are those with 0 contaminating events\n",
    "    # create dataframe merged on datetime index\n",
    "    df_temp = pd.DataFrame({'events': event_col, 'is_clean': is_clean_col})\n",
    "    total_events = df_temp.loc[(df_temp['is_clean'] < threshold) & (df_temp['events'] > 0), :].shape\n",
    "    # clean up memory\n",
    "    del df_temp\n",
    "    return total_events[0]\n",
    "    "
   ]
  },
  {
   "cell_type": "code",
   "execution_count": 23,
   "metadata": {
    "ExecuteTime": {
     "end_time": "2016-07-28T19:43:42.872262",
     "start_time": "2016-07-28T19:43:42.849034"
    },
    "collapsed": true
   },
   "outputs": [],
   "source": [
    "def add_ser(s1, s2):\n",
    "    return s1.add(s2, fill_value=0)\n",
    "\n",
    "def get_flag_counts(event_ser, rolling_window_ser, window_plus, window_minus, threshold):\n",
    "    is_clean_counts = map(lambda x: count_events_in_window(x, window_plus, window_minus), rolling_window_ser)\n",
    "    is_clean_ser = reduce(add_ser, is_clean_counts)\n",
    "    return count_clean_events(event_ser, is_clean_ser, threshold)    \n",
    "# for each of tickers, calculate "
   ]
  },
  {
   "cell_type": "code",
   "execution_count": 24,
   "metadata": {
    "ExecuteTime": {
     "end_time": "2016-07-28T19:43:44.309087",
     "start_time": "2016-07-28T19:43:44.282284"
    },
    "collapsed": true
   },
   "outputs": [],
   "source": [
    "def no_own_fails(event_df, tickers, ttype, flag, window_plus, window_minus, threshold):\n",
    "    # no other own company drug failures\n",
    "    ticker_counts = []\n",
    "    for ticker in tickers:\n",
    "        event_name = '{0}_{1}_{2}'.format(ticker, ttype, flag)\n",
    "        try:\n",
    "            event_series = event_df.loc[:, event_name]\n",
    "            fails = event_df.loc[:, '{}_DISC'.format(ticker)]\n",
    "            count = get_flag_counts(event_series, [fails], window_minus, window_plus, threshold)\n",
    "            ticker_counts.append((ticker, count))\n",
    "        except KeyError:\n",
    "#             print('{} has no events'.format(event_name))\n",
    "            pass\n",
    "    # Only zip together tickers that have data\n",
    "    return dict(ticker_counts)"
   ]
  },
  {
   "cell_type": "code",
   "execution_count": 25,
   "metadata": {
    "ExecuteTime": {
     "end_time": "2016-07-28T19:43:51.838362",
     "start_time": "2016-07-28T19:43:51.808623"
    },
    "collapsed": true
   },
   "outputs": [],
   "source": [
    "def no_same_flag_fails(event_df, tickers, ttype, flag, window_plus, window_minus, threshold):\n",
    "    # if flag is SAMEMKT_DIFFTECH and type is treated,\n",
    "    # this checks for events clean from confounding events that are TREATED_SAMEMKT_DIFFTECH and TREATING_SAMEMKT_DIFFTECH\n",
    "    ticker_counts = []\n",
    "    for ticker in tickers:\n",
    "        event_name = '{0}_{1}_{2}'.format(ticker, ttype, flag)\n",
    "        other_event_name = '{0}_{1}_{2}'.format(ticker, filter(lambda x: x != ttype, TTYPES)[0], flag)\n",
    "        if event_name in event_df.columns:\n",
    "            event_series = event_df.loc[:, event_name]\n",
    "            if other_event_name in event_df.columns:\n",
    "                fails = [event_series, event_df.loc[:, other_event_name]]\n",
    "            else:\n",
    "                fails = [event_series]\n",
    "            count = get_flag_counts(\n",
    "                event_series, fails, window_minus, window_plus, threshold)\n",
    "            ticker_counts.append((ticker, count))\n",
    "        else:\n",
    "#             print('{} has no events'.format(event_name))\n",
    "            pass\n",
    "    # Only zip together tickers that have data\n",
    "    return dict(ticker_counts)\n",
    "    "
   ]
  },
  {
   "cell_type": "code",
   "execution_count": 30,
   "metadata": {
    "ExecuteTime": {
     "end_time": "2016-07-28T19:45:28.023607",
     "start_time": "2016-07-28T19:45:27.992990"
    },
    "collapsed": true
   },
   "outputs": [],
   "source": [
    "def no_same_type_fails(event_df, tickers, ttype, flag, window_plus, window_minus, threshold):\n",
    "    # if type is treated, no other news in any treated categories\n",
    "    ticker_counts = []\n",
    "    for ticker in tickers:\n",
    "        event_name = '{0}_{1}_{2}'.format(ticker, ttype, flag)\n",
    "        if event_name in event_df.columns:\n",
    "            event_series = event_df.loc[:, event_name]\n",
    "            fails = []\n",
    "            for f in FLAGS:\n",
    "                other_col = '{0}_{1}_{2}'.format(ticker, ttype, f)\n",
    "                if other_col in event_df.columns:\n",
    "                    fails.append(event_df.loc[:, other_col])\n",
    "            count = get_flag_counts(event_series, fails, window_minus, window_plus, threshold)\n",
    "            ticker_counts.append((ticker, count))\n",
    "        else:\n",
    "#             print('{} has no events'.format(event_name))\n",
    "            pass\n",
    "    # Only zip together tickers that have data\n",
    "    return dict(ticker_counts)"
   ]
  },
  {
   "cell_type": "code",
   "execution_count": 27,
   "metadata": {
    "ExecuteTime": {
     "end_time": "2016-07-28T19:44:06.309998",
     "start_time": "2016-07-28T19:44:06.269135"
    },
    "collapsed": true
   },
   "outputs": [],
   "source": [
    "def no_other_fails(event_df, tickers, ttype, flag, window_plus, window_minus, threshold):\n",
    "    # no other news in any of other categories OR own company news\n",
    "    ticker_counts = []\n",
    "    for ticker in tickers:\n",
    "        event_name = '{0}_{1}_{2}'.format(ticker, ttype, flag)\n",
    "        # check to make sure series exists\n",
    "        if event_name in event_df.columns:\n",
    "            event_series = event_df.loc[:, event_name]\n",
    "            # get other column names that contain the ticker\n",
    "            other_flags = ['{0}_{1}_{2}'.format(ticker, tt_type, f) for f in FLAGS for tt_type in TTYPES]\n",
    "            other_flags.append('{0}_DISC'.format(ticker))\n",
    "            fail_series = []\n",
    "            for col in other_flags:\n",
    "                if col in event_df.columns:\n",
    "                    fail_series.append(event_df.loc[:, col])\n",
    "            count = get_flag_counts(event_series, fail_series, window_minus, window_plus, threshold)\n",
    "            ticker_counts.append((ticker, count))\n",
    "        else:\n",
    "#             print('{} has no events'.format(event_name))\n",
    "            pass\n",
    "    # Only zip together tickers that have data\n",
    "    return dict(ticker_counts)\n",
    "    \n",
    "    "
   ]
  },
  {
   "cell_type": "code",
   "execution_count": 40,
   "metadata": {
    "ExecuteTime": {
     "end_time": "2016-07-28T19:53:08.421542",
     "start_time": "2016-07-28T19:53:08.226026"
    },
    "collapsed": false
   },
   "outputs": [],
   "source": [
    "def construct_fnc_dict_obj(flag_ds, window_plus, window_minus):\n",
    "    set_tickers = set(map(lambda x: x.split('_')[0], flag_ds.columns))\n",
    "    return {\n",
    "        'TOTAL_COMPETITOR_FAILURE_EVENTS': {\n",
    "            'SAMEMKT_SAMETECH': funcy.func_partial(\n",
    "                total_competitor_fails_US, flag_ds, set_tickers, 'SAMEMKT_SAMETECH'),\n",
    "            'SAMEMKT_DIFFTECH': funcy.func_partial(\n",
    "                total_competitor_fails_US, flag_ds, set_tickers, 'SAMEMKT_DIFFTECH'),\n",
    "            'DIFFMKT_SAMETECH': funcy.func_partial(\n",
    "                total_competitor_fails_US, flag_ds, set_tickers, 'DIFFMKT_SAMETECH'),\n",
    "        },\n",
    "        'TOTAL_TREATING_EVENTS_NO_OWN_FAILS': {\n",
    "            'SAMEMKT_SAMETECH': funcy.func_partial(\n",
    "                no_own_fails, flag_ds, set_tickers, TREATING, 'SAMEMKT_SAMETECH', window_plus, window_minus, 2),\n",
    "            'SAMEMKT_DIFFTECH': funcy.func_partial(\n",
    "                no_own_fails, flag_ds, set_tickers, TREATING, 'SAMEMKT_DIFFTECH', window_plus, window_minus, 2),\n",
    "            'DIFFMKT_SAMETECH': funcy.func_partial(\n",
    "                no_own_fails, flag_ds, set_tickers, TREATING, 'DIFFMKT_SAMETECH', window_plus, window_minus, 2),\n",
    "        },\n",
    "        'TOTAL_TREATED_EVENTS_NO_OWN_FAILS': {\n",
    "            # Threshold is 1x since cleaning series is 'own' news (ticker_DISC), which are counted as confounding events\n",
    "            'SAMEMKT_SAMETECH': funcy.func_partial(\n",
    "                no_own_fails, flag_ds, set_tickers, TREATED, 'SAMEMKT_SAMETECH', window_plus, window_minus, 1),\n",
    "            'SAMEMKT_DIFFTECH': funcy.func_partial(\n",
    "                no_own_fails, flag_ds, set_tickers, TREATED, 'SAMEMKT_DIFFTECH', window_plus, window_minus, 1),\n",
    "            'DIFFMKT_SAMETECH': funcy.func_partial(\n",
    "                no_own_fails, flag_ds, set_tickers, TREATED, 'DIFFMKT_SAMETECH', window_plus, window_minus, 1),\n",
    "        },\n",
    "        'TOTAL_TREATING_EVENTS_NO_OTHER_SAME_FLAG': {\n",
    "            'SAMEMKT_SAMETECH': funcy.func_partial(\n",
    "                no_same_flag_fails, flag_ds, set_tickers, TREATING, 'SAMEMKT_SAMETECH', window_plus, window_minus, 2),\n",
    "            'SAMEMKT_DIFFTECH': funcy.func_partial(\n",
    "                no_same_flag_fails, flag_ds, set_tickers, TREATING, 'SAMEMKT_DIFFTECH', window_plus, window_minus, 2),\n",
    "            'DIFFMKT_SAMETECH': funcy.func_partial(\n",
    "                no_same_flag_fails, flag_ds, set_tickers, TREATING, 'DIFFMKT_SAMETECH', window_plus, window_minus, 2),\n",
    "        },\n",
    "        'TOTAL_TREATED_EVENTS_NO_OTHER_SAME_FLAG': {\n",
    "            'SAMEMKT_SAMETECH': funcy.func_partial(\n",
    "                no_same_flag_fails, flag_ds, set_tickers, TREATED, 'SAMEMKT_SAMETECH', window_plus, window_minus, 2),\n",
    "            'SAMEMKT_DIFFTECH': funcy.func_partial(\n",
    "                no_same_flag_fails, flag_ds, set_tickers, TREATED, 'SAMEMKT_DIFFTECH', window_plus, window_minus, 2),\n",
    "            'DIFFMKT_SAMETECH': funcy.func_partial(\n",
    "                no_same_flag_fails, flag_ds, set_tickers, TREATED, 'DIFFMKT_SAMETECH', window_plus, window_minus, 2),\n",
    "        },\n",
    "        'TOTAL_TREATING_EVENTS_NO_OTHER_SAME_TYPE': {\n",
    "            'SAMEMKT_SAMETECH': funcy.func_partial(\n",
    "                no_same_type_fails, flag_ds, set_tickers, TREATING, 'SAMEMKT_SAMETECH', window_plus, window_minus, 2),\n",
    "            'SAMEMKT_DIFFTECH': funcy.func_partial(\n",
    "                no_same_type_fails, flag_ds, set_tickers, TREATING, 'SAMEMKT_DIFFTECH', window_plus, window_minus, 2),\n",
    "            'DIFFMKT_SAMETECH': funcy.func_partial(\n",
    "                no_same_type_fails, flag_ds, set_tickers, TREATING, 'DIFFMKT_SAMETECH', window_plus, window_minus, 2),\n",
    "        },\n",
    "        'TOTAL_TREATED_EVENTS_NO_OTHER_SAME_TYPE': {\n",
    "            'SAMEMKT_SAMETECH': funcy.func_partial(\n",
    "                no_same_type_fails, flag_ds, set_tickers, TREATED, 'SAMEMKT_SAMETECH', window_plus, window_minus, 2),\n",
    "            'SAMEMKT_DIFFTECH': funcy.func_partial(\n",
    "                no_same_type_fails, flag_ds, set_tickers, TREATED, 'SAMEMKT_DIFFTECH', window_plus, window_minus, 2),\n",
    "            'DIFFMKT_SAMETECH': funcy.func_partial(\n",
    "                no_same_type_fails, flag_ds, set_tickers, TREATED, 'DIFFMKT_SAMETECH', window_plus, window_minus, 2),\n",
    "        },\n",
    "        'TOTAL_TREATING_EVENTS_NO_OTHERS_NEWS': {\n",
    "            # Note threshold has to be 3 because treating event count 1x in treating series and in ticker_DISC series\n",
    "            'SAMEMKT_SAMETECH': funcy.func_partial(\n",
    "                no_other_fails, flag_ds, set_tickers, TREATING, 'SAMEMKT_SAMETECH', window_plus, window_minus, 3),\n",
    "            'SAMEMKT_DIFFTECH': funcy.func_partial(\n",
    "                no_other_fails, flag_ds, set_tickers, TREATING, 'SAMEMKT_DIFFTECH', window_plus, window_minus, 3),\n",
    "            'DIFFMKT_SAMETECH': funcy.func_partial(\n",
    "                no_other_fails, flag_ds, set_tickers, TREATING, 'DIFFMKT_SAMETECH', window_plus, window_minus, 3),\n",
    "        },\n",
    "        'TOTAL_TREATED_EVENTS_NO_OTHERS_NEWS': {\n",
    "            'SAMEMKT_SAMETECH': funcy.func_partial(\n",
    "                no_other_fails, flag_ds, set_tickers, TREATED, 'SAMEMKT_SAMETECH', window_plus, window_minus, 2),\n",
    "            'SAMEMKT_DIFFTECH': funcy.func_partial(\n",
    "                no_other_fails, flag_ds, set_tickers, TREATED, 'SAMEMKT_DIFFTECH', window_plus, window_minus, 2),\n",
    "            'DIFFMKT_SAMETECH': funcy.func_partial(\n",
    "                no_other_fails, flag_ds, set_tickers, TREATED, 'DIFFMKT_SAMETECH', window_plus, window_minus, 2),\n",
    "        },\n",
    "    }\n"
   ]
  },
  {
   "cell_type": "code",
   "execution_count": 42,
   "metadata": {
    "ExecuteTime": {
     "end_time": "2016-07-28T19:57:33.597270",
     "start_time": "2016-07-28T19:57:33.572284"
    },
    "collapsed": true
   },
   "outputs": [],
   "source": [
    "def calculate_counts(flag_df, window_plus, window_minus):\n",
    "    counts_dict = construct_fnc_dict_obj(flag_df, window_plus, window_minus)\n",
    "    counts_series = []\n",
    "    for category, subsets in counts_dict.iteritems():\n",
    "        for flag_type, fnc_obj in subsets.iteritems():\n",
    "            counts_series.append(pd.Series(data=fnc_obj(), name='_'.join([category, flag_type])))\n",
    "    counts_df = pd.concat(counts_series, axis=1)\n",
    "    sum_ser = counts_df.sum()\n",
    "    # upload to csv\n",
    "    drop.csv_upload_dataset(\n",
    "        sum_ser, 'event_counts_plus_{0}_minus_{1}.csv'.format(\n",
    "            window_plus, window_minus), DATA, DROPBOX_ANALYSIS_DATA)\n",
    "    return sum_ser\n",
    "    "
   ]
  },
  {
   "cell_type": "code",
   "execution_count": 43,
   "metadata": {
    "ExecuteTime": {
     "end_time": "2016-07-28T19:58:16.902717",
     "start_time": "2016-07-28T19:57:46.464237"
    },
    "collapsed": false
   },
   "outputs": [
    {
     "name": "stderr",
     "output_type": "stream",
     "text": [
      "/Users/lrraymond13/.virtualenvs/ds3/lib/python2.7/site-packages/ipykernel/__main__.py:6: FutureWarning: pd.rolling_sum is deprecated for Series and will be removed in a future version, replace with \n",
      "\tSeries.rolling(min_periods=0,window=5,center=False).sum()\n",
      "/Users/lrraymond13/.virtualenvs/ds3/lib/python2.7/site-packages/ipykernel/__main__.py:8: FutureWarning: pd.rolling_sum is deprecated for Series and will be removed in a future version, replace with \n",
      "\tSeries.rolling(min_periods=0,window=5,center=False).sum()\n"
     ]
    },
    {
     "name": "stdout",
     "output_type": "stream",
     "text": [
      "Serializing to local path /Users/lrraymond13/MIT/Kreiger_RA_2016/mkt_reaction_drug_failure/analysis/Data/event_counts_plus_5_minus_5.csv\n",
      "Uploading /Users/lrraymond13/MIT/Kreiger_RA_2016/mkt_reaction_drug_failure/analysis/Data/event_counts_plus_5_minus_5.csv to Dropbox as /data/event_counts_plus_5_minus_5.csv\n",
      "UploadError(u'path', UploadWriteFailed(reason=WriteError(u'insufficient_space', None), upload_session_id=u'AAAAAAAABG5rG6CYopLDaQ'))\n"
     ]
    },
    {
     "data": {
      "text/plain": [
       "TOTAL_TREATED_EVENTS_NO_OTHER_SAME_FLAG_SAMEMKT_DIFFTECH     10714.0\n",
       "TOTAL_TREATED_EVENTS_NO_OTHER_SAME_FLAG_SAMEMKT_SAMETECH       581.0\n",
       "TOTAL_TREATED_EVENTS_NO_OTHER_SAME_FLAG_DIFFMKT_SAMETECH      2198.0\n",
       "TOTAL_TREATING_EVENTS_NO_OTHER_SAME_FLAG_SAMEMKT_DIFFTECH      179.0\n",
       "TOTAL_TREATING_EVENTS_NO_OTHER_SAME_FLAG_SAMEMKT_SAMETECH      204.0\n",
       "TOTAL_TREATING_EVENTS_NO_OTHER_SAME_FLAG_DIFFMKT_SAMETECH      275.0\n",
       "TOTAL_TREATED_EVENTS_NO_OWN_FAILS_SAMEMKT_DIFFTECH           20499.0\n",
       "TOTAL_TREATED_EVENTS_NO_OWN_FAILS_SAMEMKT_SAMETECH             587.0\n",
       "TOTAL_TREATED_EVENTS_NO_OWN_FAILS_DIFFMKT_SAMETECH            2776.0\n",
       "TOTAL_TREATED_EVENTS_NO_OTHERS_NEWS_SAMEMKT_DIFFTECH          9926.0\n",
       "TOTAL_TREATED_EVENTS_NO_OTHERS_NEWS_SAMEMKT_SAMETECH             7.0\n",
       "TOTAL_TREATED_EVENTS_NO_OTHERS_NEWS_DIFFMKT_SAMETECH           691.0\n",
       "TOTAL_TREATED_EVENTS_NO_OTHER_SAME_TYPE_SAMEMKT_DIFFTECH     10114.0\n",
       "TOTAL_TREATED_EVENTS_NO_OTHER_SAME_TYPE_SAMEMKT_SAMETECH         7.0\n",
       "TOTAL_TREATED_EVENTS_NO_OTHER_SAME_TYPE_DIFFMKT_SAMETECH       725.0\n",
       "TOTAL_COMPETITOR_FAILURE_EVENTS_SAMEMKT_DIFFTECH               771.0\n",
       "TOTAL_COMPETITOR_FAILURE_EVENTS_SAMEMKT_SAMETECH               296.0\n",
       "TOTAL_COMPETITOR_FAILURE_EVENTS_DIFFMKT_SAMETECH               580.0\n",
       "TOTAL_TREATING_EVENTS_NO_OWN_FAILS_SAMEMKT_DIFFTECH            665.0\n",
       "TOTAL_TREATING_EVENTS_NO_OWN_FAILS_SAMEMKT_SAMETECH            243.0\n",
       "TOTAL_TREATING_EVENTS_NO_OWN_FAILS_DIFFMKT_SAMETECH            496.0\n",
       "TOTAL_TREATING_EVENTS_NO_OTHERS_NEWS_SAMEMKT_DIFFTECH           62.0\n",
       "TOTAL_TREATING_EVENTS_NO_OTHERS_NEWS_SAMEMKT_SAMETECH            0.0\n",
       "TOTAL_TREATING_EVENTS_NO_OTHERS_NEWS_DIFFMKT_SAMETECH            1.0\n",
       "TOTAL_TREATING_EVENTS_NO_OTHER_SAME_TYPE_SAMEMKT_DIFFTECH      167.0\n",
       "TOTAL_TREATING_EVENTS_NO_OTHER_SAME_TYPE_SAMEMKT_SAMETECH        0.0\n",
       "TOTAL_TREATING_EVENTS_NO_OTHER_SAME_TYPE_DIFFMKT_SAMETECH        6.0\n",
       "dtype: float64"
      ]
     },
     "execution_count": 43,
     "metadata": {},
     "output_type": "execute_result"
    }
   ],
   "source": [
    "calculate_counts(flag_ds, 5, 5)"
   ]
  },
  {
   "cell_type": "code",
   "execution_count": 44,
   "metadata": {
    "ExecuteTime": {
     "end_time": "2016-07-28T19:59:41.294886",
     "start_time": "2016-07-28T19:59:14.004860"
    },
    "collapsed": false
   },
   "outputs": [
    {
     "name": "stderr",
     "output_type": "stream",
     "text": [
      "/Users/lrraymond13/.virtualenvs/ds3/lib/python2.7/site-packages/ipykernel/__main__.py:6: FutureWarning: pd.rolling_sum is deprecated for Series and will be removed in a future version, replace with \n",
      "\tSeries.rolling(min_periods=0,window=3,center=False).sum()\n",
      "/Users/lrraymond13/.virtualenvs/ds3/lib/python2.7/site-packages/ipykernel/__main__.py:8: FutureWarning: pd.rolling_sum is deprecated for Series and will be removed in a future version, replace with \n",
      "\tSeries.rolling(min_periods=0,window=3,center=False).sum()\n"
     ]
    },
    {
     "name": "stdout",
     "output_type": "stream",
     "text": [
      "Serializing to local path /Users/lrraymond13/MIT/Kreiger_RA_2016/mkt_reaction_drug_failure/analysis/Data/event_counts_plus_3_minus_3.csv\n",
      "Uploading /Users/lrraymond13/MIT/Kreiger_RA_2016/mkt_reaction_drug_failure/analysis/Data/event_counts_plus_3_minus_3.csv to Dropbox as /data/event_counts_plus_3_minus_3.csv\n",
      "UploadError(u'path', UploadWriteFailed(reason=WriteError(u'insufficient_space', None), upload_session_id=u'AAAAAAAABG8O4h8oJCZOCw'))\n"
     ]
    },
    {
     "data": {
      "text/plain": [
       "TOTAL_TREATED_EVENTS_NO_OTHER_SAME_FLAG_SAMEMKT_DIFFTECH     13995.0\n",
       "TOTAL_TREATED_EVENTS_NO_OTHER_SAME_FLAG_SAMEMKT_SAMETECH       636.0\n",
       "TOTAL_TREATED_EVENTS_NO_OTHER_SAME_FLAG_DIFFMKT_SAMETECH      2575.0\n",
       "TOTAL_TREATING_EVENTS_NO_OTHER_SAME_FLAG_SAMEMKT_DIFFTECH      228.0\n",
       "TOTAL_TREATING_EVENTS_NO_OTHER_SAME_FLAG_SAMEMKT_SAMETECH      216.0\n",
       "TOTAL_TREATING_EVENTS_NO_OTHER_SAME_FLAG_DIFFMKT_SAMETECH      324.0\n",
       "TOTAL_TREATED_EVENTS_NO_OWN_FAILS_SAMEMKT_DIFFTECH           21085.0\n",
       "TOTAL_TREATED_EVENTS_NO_OWN_FAILS_SAMEMKT_SAMETECH             625.0\n",
       "TOTAL_TREATED_EVENTS_NO_OWN_FAILS_DIFFMKT_SAMETECH            2911.0\n",
       "TOTAL_TREATED_EVENTS_NO_OTHERS_NEWS_SAMEMKT_DIFFTECH         12897.0\n",
       "TOTAL_TREATED_EVENTS_NO_OTHERS_NEWS_SAMEMKT_SAMETECH            13.0\n",
       "TOTAL_TREATED_EVENTS_NO_OTHERS_NEWS_DIFFMKT_SAMETECH           875.0\n",
       "TOTAL_TREATED_EVENTS_NO_OTHER_SAME_TYPE_SAMEMKT_DIFFTECH     13149.0\n",
       "TOTAL_TREATED_EVENTS_NO_OTHER_SAME_TYPE_SAMEMKT_SAMETECH        14.0\n",
       "TOTAL_TREATED_EVENTS_NO_OTHER_SAME_TYPE_DIFFMKT_SAMETECH       916.0\n",
       "TOTAL_COMPETITOR_FAILURE_EVENTS_SAMEMKT_DIFFTECH               771.0\n",
       "TOTAL_COMPETITOR_FAILURE_EVENTS_SAMEMKT_SAMETECH               296.0\n",
       "TOTAL_COMPETITOR_FAILURE_EVENTS_DIFFMKT_SAMETECH               580.0\n",
       "TOTAL_TREATING_EVENTS_NO_OWN_FAILS_SAMEMKT_DIFFTECH            710.0\n",
       "TOTAL_TREATING_EVENTS_NO_OWN_FAILS_SAMEMKT_SAMETECH            269.0\n",
       "TOTAL_TREATING_EVENTS_NO_OWN_FAILS_DIFFMKT_SAMETECH            533.0\n",
       "TOTAL_TREATING_EVENTS_NO_OTHERS_NEWS_SAMEMKT_DIFFTECH           70.0\n",
       "TOTAL_TREATING_EVENTS_NO_OTHERS_NEWS_SAMEMKT_SAMETECH            0.0\n",
       "TOTAL_TREATING_EVENTS_NO_OTHERS_NEWS_DIFFMKT_SAMETECH            2.0\n",
       "TOTAL_TREATING_EVENTS_NO_OTHER_SAME_TYPE_SAMEMKT_DIFFTECH      173.0\n",
       "TOTAL_TREATING_EVENTS_NO_OTHER_SAME_TYPE_SAMEMKT_SAMETECH        0.0\n",
       "TOTAL_TREATING_EVENTS_NO_OTHER_SAME_TYPE_DIFFMKT_SAMETECH        7.0\n",
       "dtype: float64"
      ]
     },
     "execution_count": 44,
     "metadata": {},
     "output_type": "execute_result"
    }
   ],
   "source": [
    "calculate_counts(flag_ds, 3, 3)"
   ]
  },
  {
   "cell_type": "code",
   "execution_count": 45,
   "metadata": {
    "ExecuteTime": {
     "end_time": "2016-07-28T20:00:09.181569",
     "start_time": "2016-07-28T19:59:41.297345"
    },
    "collapsed": false
   },
   "outputs": [
    {
     "name": "stderr",
     "output_type": "stream",
     "text": [
      "/Users/lrraymond13/.virtualenvs/ds3/lib/python2.7/site-packages/ipykernel/__main__.py:6: FutureWarning: pd.rolling_sum is deprecated for Series and will be removed in a future version, replace with \n",
      "\tSeries.rolling(min_periods=0,window=5,center=False).sum()\n",
      "/Users/lrraymond13/.virtualenvs/ds3/lib/python2.7/site-packages/ipykernel/__main__.py:8: FutureWarning: pd.rolling_sum is deprecated for Series and will be removed in a future version, replace with \n",
      "\tSeries.rolling(min_periods=0,window=3,center=False).sum()\n"
     ]
    },
    {
     "name": "stdout",
     "output_type": "stream",
     "text": [
      "Serializing to local path /Users/lrraymond13/MIT/Kreiger_RA_2016/mkt_reaction_drug_failure/analysis/Data/event_counts_plus_3_minus_5.csv\n",
      "Uploading /Users/lrraymond13/MIT/Kreiger_RA_2016/mkt_reaction_drug_failure/analysis/Data/event_counts_plus_3_minus_5.csv to Dropbox as /data/event_counts_plus_3_minus_5.csv\n",
      "UploadError(u'path', UploadWriteFailed(reason=WriteError(u'insufficient_space', None), upload_session_id=u'AAAAAAAABHB0LsND9xYZpw'))\n"
     ]
    },
    {
     "data": {
      "text/plain": [
       "TOTAL_TREATED_EVENTS_NO_OTHER_SAME_FLAG_SAMEMKT_DIFFTECH     12092.0\n",
       "TOTAL_TREATED_EVENTS_NO_OTHER_SAME_FLAG_SAMEMKT_SAMETECH       606.0\n",
       "TOTAL_TREATED_EVENTS_NO_OTHER_SAME_FLAG_DIFFMKT_SAMETECH      2388.0\n",
       "TOTAL_TREATING_EVENTS_NO_OTHER_SAME_FLAG_SAMEMKT_DIFFTECH      195.0\n",
       "TOTAL_TREATING_EVENTS_NO_OTHER_SAME_FLAG_SAMEMKT_SAMETECH      209.0\n",
       "TOTAL_TREATING_EVENTS_NO_OTHER_SAME_FLAG_DIFFMKT_SAMETECH      296.0\n",
       "TOTAL_TREATED_EVENTS_NO_OWN_FAILS_SAMEMKT_DIFFTECH           20808.0\n",
       "TOTAL_TREATED_EVENTS_NO_OWN_FAILS_SAMEMKT_SAMETECH             607.0\n",
       "TOTAL_TREATED_EVENTS_NO_OWN_FAILS_DIFFMKT_SAMETECH            2848.0\n",
       "TOTAL_TREATED_EVENTS_NO_OTHERS_NEWS_SAMEMKT_DIFFTECH         11191.0\n",
       "TOTAL_TREATED_EVENTS_NO_OTHERS_NEWS_SAMEMKT_SAMETECH             9.0\n",
       "TOTAL_TREATED_EVENTS_NO_OTHERS_NEWS_DIFFMKT_SAMETECH           770.0\n",
       "TOTAL_TREATED_EVENTS_NO_OTHER_SAME_TYPE_SAMEMKT_DIFFTECH     11396.0\n",
       "TOTAL_TREATED_EVENTS_NO_OTHER_SAME_TYPE_SAMEMKT_SAMETECH        10.0\n",
       "TOTAL_TREATED_EVENTS_NO_OTHER_SAME_TYPE_DIFFMKT_SAMETECH       805.0\n",
       "TOTAL_COMPETITOR_FAILURE_EVENTS_SAMEMKT_DIFFTECH               771.0\n",
       "TOTAL_COMPETITOR_FAILURE_EVENTS_SAMEMKT_SAMETECH               296.0\n",
       "TOTAL_COMPETITOR_FAILURE_EVENTS_DIFFMKT_SAMETECH               580.0\n",
       "TOTAL_TREATING_EVENTS_NO_OWN_FAILS_SAMEMKT_DIFFTECH            684.0\n",
       "TOTAL_TREATING_EVENTS_NO_OWN_FAILS_SAMEMKT_SAMETECH            254.0\n",
       "TOTAL_TREATING_EVENTS_NO_OWN_FAILS_DIFFMKT_SAMETECH            514.0\n",
       "TOTAL_TREATING_EVENTS_NO_OTHERS_NEWS_SAMEMKT_DIFFTECH           66.0\n",
       "TOTAL_TREATING_EVENTS_NO_OTHERS_NEWS_SAMEMKT_SAMETECH            0.0\n",
       "TOTAL_TREATING_EVENTS_NO_OTHERS_NEWS_DIFFMKT_SAMETECH            2.0\n",
       "TOTAL_TREATING_EVENTS_NO_OTHER_SAME_TYPE_SAMEMKT_DIFFTECH      168.0\n",
       "TOTAL_TREATING_EVENTS_NO_OTHER_SAME_TYPE_SAMEMKT_SAMETECH        0.0\n",
       "TOTAL_TREATING_EVENTS_NO_OTHER_SAME_TYPE_DIFFMKT_SAMETECH        7.0\n",
       "dtype: float64"
      ]
     },
     "execution_count": 45,
     "metadata": {},
     "output_type": "execute_result"
    }
   ],
   "source": [
    "calculate_counts(flag_ds, 3, 5)"
   ]
  },
  {
   "cell_type": "code",
   "execution_count": null,
   "metadata": {
    "collapsed": true
   },
   "outputs": [],
   "source": []
  },
  {
   "cell_type": "code",
   "execution_count": null,
   "metadata": {
    "collapsed": true
   },
   "outputs": [],
   "source": []
  }
 ],
 "metadata": {
  "kernelspec": {
   "display_name": "Python 2",
   "language": "python",
   "name": "python2"
  },
  "language_info": {
   "codemirror_mode": {
    "name": "ipython",
    "version": 2
   },
   "file_extension": ".py",
   "mimetype": "text/x-python",
   "name": "python",
   "nbconvert_exporter": "python",
   "pygments_lexer": "ipython2",
   "version": "2.7.10"
  }
 },
 "nbformat": 4,
 "nbformat_minor": 0
}

{
 "cells": [
  {
   "cell_type": "code",
   "execution_count": 1,
   "metadata": {
    "ExecuteTime": {
     "end_time": "2016-09-06T10:19:35.922950",
     "start_time": "2016-09-06T10:19:32.789363"
    },
    "collapsed": false
   },
   "outputs": [],
   "source": [
    "%matplotlib inline\n",
    "import cPickle as pickle\n",
    "from datetime import datetime\n",
    "import funcy\n",
    "import itertools\n",
    "import numpy as np\n",
    "import pandas as pd\n",
    "import plotly\n",
    "from plotly import tools\n",
    "import plotly.plotly as py\n",
    "import plotly.graph_objs as go\n",
    "import pytz\n",
    "import os\n",
    "\n",
    "# Need to update using new folder structure\n",
    "from analysis.utilities.data_utils import clean_columns, strip_upcase\n",
    "from analysis.utilities.dropbox_client import DropboxAPI\n",
    "\n",
    "DROPBOX_ANALYSIS_DATA = '/data/intermediate'\n",
    "DROPBOX_CRSP = '/data/CRSP'\n",
    "DATA = os.path.join(os.path.abspath(os.curdir), 'analysis/Data')\n",
    "TAB_CRSP_FILES = ['output1-50.txt', 'output51-100.txt', 'output101-150.txt']\n",
    "CSV_CRSP_FILES = ['output_200+.csv']\n",
    "TT_FNAME = 'treating_treated_ticker'\n",
    "FULL_CSP_FNAME = 'full_CRSP'\n",
    "CRSP_LONG_FNAME = 'PRC_RET_VOL_long'\n",
    "CRSP_FLAG_FNAME = 'crsp_event_flags'"
   ]
  },
  {
   "cell_type": "code",
   "execution_count": 2,
   "metadata": {
    "ExecuteTime": {
     "end_time": "2016-09-06T10:19:35.995896",
     "start_time": "2016-09-06T10:19:35.925496"
    },
    "collapsed": true
   },
   "outputs": [],
   "source": [
    "OFFLINE_FLAG = False \n",
    "UPLOAD_DATA = False\n",
    "PRICE_SYMBOL = 'PRC'\n"
   ]
  },
  {
   "cell_type": "code",
   "execution_count": 3,
   "metadata": {
    "ExecuteTime": {
     "end_time": "2016-09-06T10:19:36.084956",
     "start_time": "2016-09-06T10:19:35.998807"
    },
    "collapsed": true
   },
   "outputs": [],
   "source": [
    "TREATING = 'TREATING'\n",
    "TREATED = 'TREATED'\n",
    "TREATING_DT = 'TREATING_DISCONTINUED_IKT_DATE'\n",
    "TREATED_DT = 'DISCONTINUED_IKT_DATE'\n",
    "FLAGS = ['SAMEMKT_SAMETECH', 'SAMEMKT_DIFFTECH', 'DIFFMKT_SAMETECH']"
   ]
  },
  {
   "cell_type": "code",
   "execution_count": 4,
   "metadata": {
    "ExecuteTime": {
     "end_time": "2016-09-06T10:19:36.122874",
     "start_time": "2016-09-06T10:19:36.088238"
    },
    "collapsed": false
   },
   "outputs": [],
   "source": [
    "def get_ticker_events(ticker, flag, ttype, event_df, date_cols=[TREATED_DT, TREATING_DT]):\n",
    "    # get dates where ticker flagged for 'flag_name' event\n",
    "    # get instances where treating/treated ticker symbol == to ticker type\n",
    "    # ticker is ticker symbol, flag is string of 'Treating_\n",
    "    parent_ts = '{}_PARENT_TICKER_SYMBOL'.format(ttype)\n",
    "    ts = '{}_TICKER_SYMBOL'.format(ttype)\n",
    "    events = event_df.loc[(event_df[parent_ts].isin([ticker])) | (event_df[ts].isin([ticker])), :]\n",
    "    \n",
    "    # find dates where each specific flag has value for this ticker, if none, continue to next flag\n",
    "    if events.size == 0:\n",
    "        return None\n",
    "    event_dates = events.loc[events[flag] > 0, funcy.concat(date_cols, [flag])]\n",
    "    return event_dates"
   ]
  },
  {
   "cell_type": "code",
   "execution_count": 5,
   "metadata": {
    "ExecuteTime": {
     "end_time": "2016-09-06T10:19:36.274763",
     "start_time": "2016-09-06T10:19:36.126715"
    },
    "collapsed": false
   },
   "outputs": [],
   "source": [
    "if OFFLINE_FLAG:\n",
    "    from plotly import __version__\n",
    "    from plotly import offline\n",
    "#     from plotly.offline import download_plotlyjs, init_notebook_mode, plot, iplot\n",
    "\n",
    "    print __version__ # requires version >= 1.9.0\n",
    "\n",
    "\n",
    "    offline.init_notebook_mode(connected=True) # run at the start of every ipython notebook to use plotly.offline\n",
    "                         # this injects the plotly.js source files into the notebook\n"
   ]
  },
  {
   "cell_type": "code",
   "execution_count": 6,
   "metadata": {
    "ExecuteTime": {
     "end_time": "2016-09-06T10:19:36.354419",
     "start_time": "2016-09-06T10:19:36.278412"
    },
    "collapsed": true
   },
   "outputs": [],
   "source": [
    "def plotly_plot(fig, filename, OFFLINE_FLAG):\n",
    "    if OFFLINE_FLAG:\n",
    "        offline.iplot(fig)\n",
    "    else:\n",
    "        py.iplot(fig, filename=filename)\n",
    "    "
   ]
  },
  {
   "cell_type": "code",
   "execution_count": null,
   "metadata": {
    "ExecuteTime": {
     "end_time": "2016-07-27T10:21:08.443202",
     "start_time": "2016-07-27T10:21:08.418809"
    },
    "collapsed": true
   },
   "outputs": [],
   "source": [
    "d = DropboxAPI()"
   ]
  },
  {
   "cell_type": "code",
   "execution_count": null,
   "metadata": {
    "ExecuteTime": {
     "end_time": "2016-07-27T10:21:10.320543",
     "start_time": "2016-07-27T10:21:08.834377"
    },
    "collapsed": false
   },
   "outputs": [],
   "source": [
    "# Download Pivoted CRSP data set\n",
    "# Need to make this work better - not currently downloading from local if dropbox not available\n",
    "full_crsp = d.search_and_download(CRSP_LONG_FNAME, DROPBOX_CRSP, DATA, 'p')"
   ]
  },
  {
   "cell_type": "code",
   "execution_count": null,
   "metadata": {
    "ExecuteTime": {
     "end_time": "2016-07-27T10:21:10.352731",
     "start_time": "2016-07-27T10:21:10.323063"
    },
    "collapsed": false
   },
   "outputs": [],
   "source": [
    "full_crsp.columns"
   ]
  },
  {
   "cell_type": "code",
   "execution_count": null,
   "metadata": {
    "ExecuteTime": {
     "end_time": "2016-07-27T10:21:12.715335",
     "start_time": "2016-07-27T10:21:10.355714"
    },
    "collapsed": false
   },
   "outputs": [],
   "source": [
    "# Download treated/treating dataset\n",
    "tt_ds = d.search_and_download(TT_FNAME, DROPBOX_CRSP, DATA, 'p')"
   ]
  },
  {
   "cell_type": "code",
   "execution_count": null,
   "metadata": {
    "ExecuteTime": {
     "end_time": "2016-07-27T10:21:12.742631",
     "start_time": "2016-07-27T10:21:12.718044"
    },
    "collapsed": true
   },
   "outputs": [],
   "source": [
    "def to_unix_time(dt):\n",
    "    # convert datetime object to milliseconds \n",
    "    epoch =  datetime.utcfromtimestamp(0)\n",
    "    return (dt - epoch).total_seconds() * 1000"
   ]
  },
  {
   "cell_type": "code",
   "execution_count": null,
   "metadata": {
    "ExecuteTime": {
     "end_time": "2016-07-27T10:21:12.779169",
     "start_time": "2016-07-27T10:21:12.745262"
    },
    "collapsed": false
   },
   "outputs": [],
   "source": [
    "def create_layout(ticker, x_date_range=None):\n",
    "    if x_date_range is not None:\n",
    "#          # date range dates must be in unix timestamp format UTC\n",
    "        assert len(x_date_range) == 2\n",
    "        assert isinstance(datetime, x_date_range[0])\n",
    "        assert isinstance(datetime, x_date_range[-1])\n",
    "        x_date_range = map(to_unix_time, DEFAULT_RANGE)\n",
    "    layout = go.Layout(\n",
    "        title = ticker,\n",
    "        height = 850, \n",
    "        width = 900,\n",
    "        xaxis = dict(\n",
    "            range=x_date_range,\n",
    "            type='date',\n",
    "            title = 'Date',\n",
    "            showgrid = True\n",
    "        ),\n",
    "        yaxis = dict(\n",
    "            title= 'Price',\n",
    "            showline = True,\n",
    "            side='left',\n",
    "        ), \n",
    "    )\n",
    "    return layout"
   ]
  },
  {
   "cell_type": "code",
   "execution_count": null,
   "metadata": {
    "ExecuteTime": {
     "end_time": "2016-07-27T10:21:12.839582",
     "start_time": "2016-07-27T10:21:12.782687"
    },
    "collapsed": true
   },
   "outputs": [],
   "source": [
    "def create_event_traces(ticker, event_df, pivot_df, price_symbol, ttype='TREATING', dt_var=TREATING_DT):\n",
    "    # ticker is string of ticker val, event_df is long list of treating/treated flags and event type flags\n",
    "    # pivot df is df with index of time, cols of different tickers and values are ticker stock prices\n",
    "    # ttype is treating/treated, tt_dt is correspondinf treating/treated_dt value\n",
    "    traces = []\n",
    "\n",
    "    # get stock average to fill in when flag date outside range of stock data\n",
    "    # mean returns a series, so need to get integer value to fill in\n",
    "    ticker_name = '{}_{}'.format(ticker, price_symbol)\n",
    "    stock_avg = pivot_df.loc[:, [ticker_name]].mean(skipna=True).values[0]\n",
    "    \n",
    "    # find dates where each specific flag has value for this ticker, if none, continue to next flag\n",
    "    for num, f in enumerate(FLAGS):\n",
    "        stock_prices = None\n",
    "        ticker_event_df = get_ticker_events(ticker, f, ttype, event_df)\n",
    "        if ticker_event_df is not None and not ticker_event_df.empty:\n",
    "            # get dates where flag has a value\n",
    "            # not when getting values, need to make sure a pandas tslib.Timestamp, not np datetime64\n",
    "            event_dates = pd.DatetimeIndex(ticker_event_df[dt_var].unique())\n",
    "            print('{0} {1} {2} has {3} events'.format(ticker, ttype, f, ticker_event_df.size))\n",
    "            # get stock average to fill in when flag date outside range of stock data\n",
    "            try:\n",
    "                stock_prices = pivot_df.loc[event_dates, ticker_name]+num*0.25\n",
    "            except KeyError as e:\n",
    "                stock_prices = pd.Series(stock_avg, index=event_dates)\n",
    "                print('Ticker {} has no overlap with stock data and events'.format(ticker))\n",
    "            t = plotly.graph_objs.Scatter(\n",
    "                        x = event_dates,\n",
    "                        y = stock_prices,\n",
    "                        name = '{0}_{1}'.format(ttype, f),\n",
    "                        xaxis = 'Date',\n",
    "                        showlegend = True,\n",
    "                        mode='markers',\n",
    "                        marker = {\n",
    "                            'symbol': 'line-ew-open',\n",
    "                            'size': 20}\n",
    "            )\n",
    "            traces.append(t)\n",
    "        else:\n",
    "            print('{0} {1} {2} has no events'.format(ticker, ttype, f))\n",
    "            \n",
    "    return traces\n",
    "    \n",
    "    "
   ]
  },
  {
   "cell_type": "code",
   "execution_count": null,
   "metadata": {
    "ExecuteTime": {
     "end_time": "2016-07-27T10:21:13.415603",
     "start_time": "2016-07-27T10:21:13.357170"
    },
    "collapsed": false
   },
   "outputs": [],
   "source": [
    "def create_discontinued_traces(ticker, event_df, pivot_df, price_symbol):\n",
    "    # ticker is string of ticker val, event_df is long list of treating/treated flags and event type flags\n",
    "    # pivot df is df with index of time, cols of different tickers and values are ticker stock prices\n",
    "    # Function creates scatter objects for date when company discontinues/fails in trials for its own drug even though\n",
    "    # when it is part of a treating cohort\n",
    "    traces = []\n",
    "\n",
    "    # get stock average to fill in when flag date outside range of stock data\n",
    "    # mean returns a series, so need to get integer value to fill in\n",
    "    ticker_name = '{}_{}'.format(ticker, price_symbol)\n",
    "    stock_avg = pivot_df.loc[:, [ticker_name]].mean(skipna=True).values[0]\n",
    "    \n",
    "    # get dates where this ticker has date of discontinuation for treating drug (we don't want to double plot these)\n",
    "    treating_dates = event_df.loc[(event_df['TREATING_TICKER_SYMBOL'] == ticker) | \n",
    "                                  (event_df['TREATING_PARENT_TICKER_SYMBOL'] == ticker), TREATING_DT].dropna().unique()\n",
    "    for num, f in enumerate(FLAGS):\n",
    "        stock_prices = None\n",
    "        ticker_event_df = get_ticker_events(ticker, f, TREATED, event_df)\n",
    "        if ticker_event_df is not None and not ticker_event_df.empty:\n",
    "            # get dates where flag has a value\n",
    "            # not when getting values, need to make sure a pandas tslib.Timestamp, not np datetime64\n",
    "            # filter out dates plotted as treated dates\n",
    "            event_dates = pd.DatetimeIndex(ticker_event_df.loc[\n",
    "                    ~ticker_event_df.loc[:, TREATED_DT].isin(treating_dates), TREATED_DT].dropna().unique())\n",
    "            print('{0} {1} {2} has {3} additional drug fails'.format(ticker, TREATED, f, event_dates.size))\n",
    "            # get stock average to fill in when flag date outside range of stock data\n",
    "            try:\n",
    "                stock_prices = pivot_df.loc[event_dates, ticker_name]+num*0.25\n",
    "            except KeyError as e:\n",
    "                stock_prices = pd.Series(stock_avg, index=event_dates)\n",
    "                print('Ticker {} has no overlap with stock data and events'.format(ticker))\n",
    "            t = plotly.graph_objs.Scatter(\n",
    "                        x = event_dates,\n",
    "                        y = stock_prices,\n",
    "                        name = 'NEWS_{0}'.format(f),\n",
    "                        xaxis = 'Date',\n",
    "                        showlegend = True,\n",
    "                        mode='markers',\n",
    "                        marker = {\n",
    "                            'symbol': 'circle',\n",
    "                            'size': 30}\n",
    "            )\n",
    "            traces.append(t)\n",
    "        else:\n",
    "            print('{0} {1} has no additional drug failures events'.format(ticker, f))\n",
    "            \n",
    "    return traces"
   ]
  },
  {
   "cell_type": "code",
   "execution_count": null,
   "metadata": {
    "ExecuteTime": {
     "end_time": "2016-07-27T10:21:14.882895",
     "start_time": "2016-07-27T10:21:14.850878"
    },
    "collapsed": true
   },
   "outputs": [],
   "source": [
    "def create_price_traces(tickers, pivot_df, value_symbol):\n",
    "    if not funcy.is_iter(tickers):\n",
    "        tickers = [tickers]\n",
    "    traces = []\n",
    "    for ticker in tickers:\n",
    "        ticker_name = '{}_{}'.format(ticker, value_symbol)\n",
    "        price_series = pivot_df[ticker_name].dropna()\n",
    "        t = plotly.graph_objs.Scatter(\n",
    "            x = price_series.index,\n",
    "            y = price_series.values,\n",
    "            name = '{}'.format(ticker_name),\n",
    "            showlegend = True,\n",
    "            mode = 'line',\n",
    "            line = {\n",
    "                'width': 1 \n",
    "            }\n",
    "        )\n",
    "        traces.append(t)\n",
    "    return traces\n",
    "    "
   ]
  },
  {
   "cell_type": "code",
   "execution_count": null,
   "metadata": {
    "ExecuteTime": {
     "end_time": "2016-07-27T10:21:15.367820",
     "start_time": "2016-07-27T10:21:15.325471"
    },
    "collapsed": false
   },
   "outputs": [],
   "source": [
    "def create_treating_treated_graph(ticker, df, pivot_df, price_symbol, offline_flag):\n",
    "    layout = create_layout(ticker, None)\n",
    "    graph_fncs = [\n",
    "        funcy.rpartial(create_event_traces, df, pivot_df, price_symbol, TREATING, TREATING_DT), \n",
    "        # note we still get treating date for plotting treated series- this is date the treatment occured \n",
    "        # so more informative\n",
    "        # TODO - also plot dates when/if same drug as being treated was discontinued\n",
    "        funcy.rpartial(create_event_traces, df, pivot_df, price_symbol, TREATED, TREATING_DT),\n",
    "        # create additional drug disc failures \n",
    "        funcy.rpartial(create_discontinued_traces, df, pivot_df, price_symbol),\n",
    "        funcy.rpartial(create_price_traces, pivot_df, price_symbol)\n",
    "    ]\n",
    "    # force function evaluation\n",
    "    graph_results = [fn(ticker) for fn in graph_fncs]\n",
    "    # remove lists of length 0 (flags with no data), expand lists returned\n",
    "    graph_data = [item for sublist in graph_results for item in sublist if len(sublist) > 0]\n",
    "    has_data = len(graph_data) > 0\n",
    "    if not has_data:\n",
    "        print('Ticker {} has no data'.format(ticker))\n",
    "        return ticker\n",
    "    print('Plotting Ticker {}'.format(ticker))\n",
    "    fig = go.Figure(data=graph_data,\n",
    "                 layout=layout,\n",
    "    )\n",
    "    plotly_plot(fig, ticker, offline_flag)\n",
    "    return None\n",
    "    \n"
   ]
  },
  {
   "cell_type": "code",
   "execution_count": null,
   "metadata": {
    "ExecuteTime": {
     "end_time": "2016-07-27T10:21:18.565581",
     "start_time": "2016-07-27T10:21:16.044891"
    },
    "collapsed": false
   },
   "outputs": [],
   "source": [
    "create_treating_treated_graph('ZIOP', tt_ds, full_crsp, PRICE_SYMBOL, OFFLINE_FLAG)"
   ]
  },
  {
   "cell_type": "code",
   "execution_count": null,
   "metadata": {
    "ExecuteTime": {
     "end_time": "2016-07-27T10:21:21.420894",
     "start_time": "2016-07-27T10:21:21.306971"
    },
    "collapsed": false
   },
   "outputs": [],
   "source": [
    "treated_tickers = set(itertools.chain(\n",
    "    tt_ds.TREATED_PARENT_TICKER_SYMBOL.dropna().unique(), \n",
    "    tt_ds.loc[tt_ds.TREATED_PARENT_COMPANY_ID.isnull(), 'TREATED_TICKER_SYMBOL'].dropna().unique()))\n",
    "\n",
    "treating_tickers = set(itertools.chain(\n",
    "    tt_ds.TREATING_PARENT_TICKER_SYMBOL.dropna().unique(), \n",
    "    tt_ds.loc[tt_ds.TREATING_PARENT_COMPANY_ID.isnull(), 'TREATING_TICKER_SYMBOL'].dropna().unique()))\n"
   ]
  },
  {
   "cell_type": "code",
   "execution_count": null,
   "metadata": {
    "ExecuteTime": {
     "end_time": "2016-07-27T10:21:22.138086",
     "start_time": "2016-07-27T10:21:22.091012"
    },
    "collapsed": false
   },
   "outputs": [],
   "source": [
    "# Check that both treating and treated tickers have values\n",
    "col_tickers = map(lambda x: x.split('_')[0], full_crsp.columns)\n",
    "treating_exists = [x for x in treating_tickers if x in col_tickers]\n",
    "treated_exists =  [x for x in treated_tickers if x in col_tickers]\n",
    "# print treating_exists\n",
    "# print treated_exists\n",
    "existing_unique_tickers = set(funcy.merge(treated_exists, treating_exists))\n",
    "print(len(existing_unique_tickers))"
   ]
  },
  {
   "cell_type": "code",
   "execution_count": null,
   "metadata": {
    "ExecuteTime": {
     "end_time": "2016-07-27T10:21:23.897687",
     "start_time": "2016-07-27T10:21:23.613638"
    },
    "collapsed": false
   },
   "outputs": [],
   "source": [
    "def get_missing_tickers(missing_tickers, ttype=TREATED):\n",
    "    ts = '{}_TICKER_SYMBOL'.format(ttype)\n",
    "    parent_ts = '{}_PARENT_TICKER_SYMBOL'.format(ttype)\n",
    "    t_name = '{}_CLEAN_NAME'.format(ttype)\n",
    "    parent_t_name = '{}_PARENT_CLEAN_NAME'.format(ttype)\n",
    "    missing_df = tt_ds.loc[(tt_ds[parent_ts].isin(missing_tickers)) | (tt_ds[ts].isin(missing_tickers)), \n",
    "        [ts, parent_ts, t_name, parent_t_name]]\n",
    "    return missing_df.drop_duplicates().rename(columns={\n",
    "            ts: 'TICKER_SYMBOL', parent_ts: 'PARENT_TICKER_SYMBOL',\n",
    "            t_name: 'CLEAN_NAME', parent_t_name: 'PARENT_CLEAN_NAME'})\n",
    "    \n",
    "\n",
    "# get tickers not in CRSP dataframe\n",
    "missing_treating = set(treating_tickers) - existing_unique_tickers\n",
    "missing_treated = set(treated_tickers) - existing_unique_tickers\n",
    "# get company names to recover ticker symbol\n",
    "missing_treated_df = get_missing_tickers(missing_treated, TREATED)\n",
    "missing_treating_df = get_missing_tickers(missing_treating, TREATING)\n",
    "\n",
    "\n",
    "missing_tickers = pd.concat([missing_treating_df, missing_treated_df], ignore_index=True).drop_duplicates()"
   ]
  },
  {
   "cell_type": "code",
   "execution_count": null,
   "metadata": {
    "ExecuteTime": {
     "end_time": "2016-07-27T10:21:24.139466",
     "start_time": "2016-07-27T10:21:24.113709"
    },
    "collapsed": false
   },
   "outputs": [],
   "source": [
    "# Write Out Data Set\n",
    "if UPLOAD_DATA:\n",
    "    d.csv_upload_dataset(missing_tickers, 'unknown_ticker_symbols.csv', DATA, DROPBOX_ANALYSIS_DATA)\n"
   ]
  },
  {
   "cell_type": "code",
   "execution_count": null,
   "metadata": {
    "ExecuteTime": {
     "end_time": "2016-07-27T10:21:24.616181",
     "start_time": "2016-07-27T10:21:24.588371"
    },
    "collapsed": false
   },
   "outputs": [],
   "source": [
    "# Dispatch plotting requests\n",
    "sorted_t = sorted(existing_unique_tickers)\n",
    "# returns a list of list with each list 30 tickers long - max api use is 30 graphs at a time\n",
    "chunks = funcy.chunks(30, sorted_t)"
   ]
  },
  {
   "cell_type": "code",
   "execution_count": null,
   "metadata": {
    "ExecuteTime": {
     "end_time": "2016-07-27T10:32:57.244303",
     "start_time": "2016-07-27T10:22:06.699788"
    },
    "collapsed": false
   },
   "outputs": [],
   "source": [
    "for chunk in chunks:\n",
    "    map(funcy.rpartial(create_treating_treated_graph, tt_ds, full_crsp, PRICE_SYMBOL, OFFLINE_FLAG), chunk)"
   ]
  },
  {
   "cell_type": "code",
   "execution_count": null,
   "metadata": {
    "ExecuteTime": {
     "end_time": "2016-07-27T10:20:21.857780",
     "start_time": "2016-07-27T14:20:17.957Z"
    },
    "collapsed": false
   },
   "outputs": [],
   "source": [
    "OFFLINE_FLAG = False\n",
    "for chunk in chunks[1:]:\n",
    "    map(funcy.rpartial(create_treating_treated_graph, tt_ds, pivot_ds, OFFLINE_FLAG), chunk)"
   ]
  },
  {
   "cell_type": "code",
   "execution_count": null,
   "metadata": {
    "ExecuteTime": {
     "end_time": "2016-07-27T10:20:21.858661",
     "start_time": "2016-07-27T14:20:17.963Z"
    },
    "collapsed": false
   },
   "outputs": [],
   "source": [
    "print chunks"
   ]
  },
  {
   "cell_type": "code",
   "execution_count": null,
   "metadata": {
    "ExecuteTime": {
     "end_time": "2016-07-27T10:20:21.859370",
     "start_time": "2016-07-27T14:20:17.966Z"
    },
    "collapsed": false
   },
   "outputs": [],
   "source": [
    "pivot_ds.loc[:, 'ACU'].dropna()"
   ]
  },
  {
   "cell_type": "code",
   "execution_count": null,
   "metadata": {
    "ExecuteTime": {
     "end_time": "2016-07-27T10:20:21.859819",
     "start_time": "2016-07-27T14:20:17.969Z"
    },
    "collapsed": false
   },
   "outputs": [],
   "source": [
    "print treating_tickers"
   ]
  },
  {
   "cell_type": "code",
   "execution_count": null,
   "metadata": {
    "ExecuteTime": {
     "end_time": "2016-07-27T10:20:21.860241",
     "start_time": "2016-07-27T14:20:17.976Z"
    },
    "collapsed": false
   },
   "outputs": [],
   "source": [
    "tt_ds.head()"
   ]
  },
  {
   "cell_type": "code",
   "execution_count": null,
   "metadata": {
    "collapsed": true
   },
   "outputs": [],
   "source": []
  }
 ],
 "metadata": {
  "kernelspec": {
   "display_name": "Python 2",
   "language": "python",
   "name": "python2"
  },
  "language_info": {
   "codemirror_mode": {
    "name": "ipython",
    "version": 2
   },
   "file_extension": ".py",
   "mimetype": "text/x-python",
   "name": "python",
   "nbconvert_exporter": "python",
   "pygments_lexer": "ipython2",
   "version": "2.7.10"
  }
 },
 "nbformat": 4,
 "nbformat_minor": 0
}
